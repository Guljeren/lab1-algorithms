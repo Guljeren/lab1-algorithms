# задача - 2
s = input("Введите слово:").strip()
count = {}

for char in s:
    count[char] = count.get(char, 0) + 1

max_char = None
max_count = 0
for char in sorted(count):
    if count[char] > max_count:
        max_count = count[char]
        max_char = char

print(max_char)





# задача - 3
numbers = [1, 2, 1, 3, 2]
S = 3
count = 0

print("Найденные подпоследовательности:")
for i in range(len(numbers)):
    for j in range(i, len(numbers)):
        subsequence = numbers[i:j+1]
        current_sum = sum(subsequence)
        
        if current_sum == S:
            count += 1
            print(f"{subsequence} = {current_sum}")

print(f"\nВсего найдено: {count}")
